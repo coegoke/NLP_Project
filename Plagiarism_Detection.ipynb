{
  "nbformat": 4,
  "nbformat_minor": 0,
  "metadata": {
    "colab": {
      "provenance": [],
      "mount_file_id": "1WHE8vBZdzQetu5gKiq-HNwUAV0zoU0Ei",
      "authorship_tag": "ABX9TyN2Qk934TE5Eo9aWxa9dalO",
      "include_colab_link": true
    },
    "kernelspec": {
      "name": "python3",
      "display_name": "Python 3"
    },
    "language_info": {
      "name": "python"
    }
  },
  "cells": [
    {
      "cell_type": "markdown",
      "metadata": {
        "id": "view-in-github",
        "colab_type": "text"
      },
      "source": [
        "<a href=\"https://colab.research.google.com/github/coegoke/NLP_Project/blob/main/Plagiarism_Detection.ipynb\" target=\"_parent\"><img src=\"https://colab.research.google.com/assets/colab-badge.svg\" alt=\"Open In Colab\"/></a>"
      ]
    },
    {
      "cell_type": "code",
      "execution_count": null,
      "metadata": {
        "id": "YVtO1q3j1qt_"
      },
      "outputs": [],
      "source": [
        "import pandas as pd\n",
        "from tqdm import tqdm"
      ]
    },
    {
      "cell_type": "code",
      "source": [
        "def preprocess_data(data_path, sample_size):\n",
        "\n",
        "    data = pd.read_csv(data_path, low_memory = False)\n",
        "\n",
        "    data = data.dropna(subset = ['abstract']).reset_index(drop=True)\n",
        "\n",
        "    data = data.sample(sample_size)['abstract']\n",
        "\n",
        "    return data\n"
      ],
      "metadata": {
        "id": "KtH4_6i31shy"
      },
      "execution_count": null,
      "outputs": []
    },
    {
      "cell_type": "code",
      "source": [
        "data_path = '/content/drive/MyDrive/NLP/data.csv'\n",
        "source_data = preprocess_data(data_path, 100)"
      ],
      "metadata": {
        "id": "-xKH7Aok1uED"
      },
      "execution_count": null,
      "outputs": []
    },
    {
      "cell_type": "code",
      "source": [
        "# !pip -q install transformers\n",
        "# !pip -q install keras"
      ],
      "metadata": {
        "id": "KToMwwrYuc9f"
      },
      "execution_count": null,
      "outputs": []
    },
    {
      "cell_type": "code",
      "source": [
        "import torch\n",
        "from keras.preprocessing.sequence import pad_sequences\n",
        "from transformers import BertTokenizer, AutoModelForSequenceClassification"
      ],
      "metadata": {
        "id": "oEjgAllK1_ab"
      },
      "execution_count": null,
      "outputs": []
    },
    {
      "cell_type": "code",
      "source": [
        "model_path = \"bert-base-uncased\"\n",
        "\n",
        "tokenizer = BertTokenizer.from_pretrained(model_path,\n",
        "                                          do_lower_case = True\n",
        ")\n",
        "\n",
        "model = AutoModelForSequenceClassification.from_pretrained(model_path,\n",
        "                                                           output_attentions = False,\n",
        "                                                           output_hidden_states = True)"
      ],
      "metadata": {
        "colab": {
          "base_uri": "https://localhost:8080/"
        },
        "id": "OmR5dA8s3MR3",
        "outputId": "fb269b4f-184f-4301-ac06-6b33171ba85b"
      },
      "execution_count": null,
      "outputs": [
        {
          "output_type": "stream",
          "name": "stderr",
          "text": [
            "Some weights of BertForSequenceClassification were not initialized from the model checkpoint at bert-base-uncased and are newly initialized: ['classifier.bias', 'classifier.weight']\n",
            "You should probably TRAIN this model on a down-stream task to be able to use it for predictions and inference.\n"
          ]
        }
      ]
    },
    {
      "cell_type": "code",
      "source": [
        "source_data = pd.DataFrame(source_data)\n",
        "source_data['apa'] = 'iyaiyaiya'\n",
        "source_data"
      ],
      "metadata": {
        "colab": {
          "base_uri": "https://localhost:8080/",
          "height": 423
        },
        "id": "kgP52IN-xb10",
        "outputId": "8e3c8b69-a138-4fdc-fda9-87344fde05f9"
      },
      "execution_count": null,
      "outputs": [
        {
          "output_type": "execute_result",
          "data": {
            "text/plain": [
              "                                               abstract        apa\n",
              "2188  BACKGROUND Due to demand on UK memory clinic s...  iyaiyaiya\n",
              "7490  From the Executive Summary: The global effort ...  iyaiyaiya\n",
              "246   BACKGROUND: Studies evaluating strategies for ...  iyaiyaiya\n",
              "5332  Telemedicine has rapidly expanded in many aspe...  iyaiyaiya\n",
              "7023  BACKGROUND: In COVID-19 patients, undetected c...  iyaiyaiya\n",
              "...                                                 ...        ...\n",
              "4977  [Image: see text] The COVID-19 pandemic is inc...  iyaiyaiya\n",
              "5572  BACKGROUND/AIMS Patients who develop acute kid...  iyaiyaiya\n",
              "8631  Background and Objectives: The aim of this ret...  iyaiyaiya\n",
              "1875  We investigated severe acute respiratory syndr...  iyaiyaiya\n",
              "7674  Background: Cases of patients with combined DK...  iyaiyaiya\n",
              "\n",
              "[100 rows x 2 columns]"
            ],
            "text/html": [
              "\n",
              "  <div id=\"df-810dd47d-8c38-409e-aa4a-c1ba608dd456\" class=\"colab-df-container\">\n",
              "    <div>\n",
              "<style scoped>\n",
              "    .dataframe tbody tr th:only-of-type {\n",
              "        vertical-align: middle;\n",
              "    }\n",
              "\n",
              "    .dataframe tbody tr th {\n",
              "        vertical-align: top;\n",
              "    }\n",
              "\n",
              "    .dataframe thead th {\n",
              "        text-align: right;\n",
              "    }\n",
              "</style>\n",
              "<table border=\"1\" class=\"dataframe\">\n",
              "  <thead>\n",
              "    <tr style=\"text-align: right;\">\n",
              "      <th></th>\n",
              "      <th>abstract</th>\n",
              "      <th>apa</th>\n",
              "    </tr>\n",
              "  </thead>\n",
              "  <tbody>\n",
              "    <tr>\n",
              "      <th>2188</th>\n",
              "      <td>BACKGROUND Due to demand on UK memory clinic s...</td>\n",
              "      <td>iyaiyaiya</td>\n",
              "    </tr>\n",
              "    <tr>\n",
              "      <th>7490</th>\n",
              "      <td>From the Executive Summary: The global effort ...</td>\n",
              "      <td>iyaiyaiya</td>\n",
              "    </tr>\n",
              "    <tr>\n",
              "      <th>246</th>\n",
              "      <td>BACKGROUND: Studies evaluating strategies for ...</td>\n",
              "      <td>iyaiyaiya</td>\n",
              "    </tr>\n",
              "    <tr>\n",
              "      <th>5332</th>\n",
              "      <td>Telemedicine has rapidly expanded in many aspe...</td>\n",
              "      <td>iyaiyaiya</td>\n",
              "    </tr>\n",
              "    <tr>\n",
              "      <th>7023</th>\n",
              "      <td>BACKGROUND: In COVID-19 patients, undetected c...</td>\n",
              "      <td>iyaiyaiya</td>\n",
              "    </tr>\n",
              "    <tr>\n",
              "      <th>...</th>\n",
              "      <td>...</td>\n",
              "      <td>...</td>\n",
              "    </tr>\n",
              "    <tr>\n",
              "      <th>4977</th>\n",
              "      <td>[Image: see text] The COVID-19 pandemic is inc...</td>\n",
              "      <td>iyaiyaiya</td>\n",
              "    </tr>\n",
              "    <tr>\n",
              "      <th>5572</th>\n",
              "      <td>BACKGROUND/AIMS Patients who develop acute kid...</td>\n",
              "      <td>iyaiyaiya</td>\n",
              "    </tr>\n",
              "    <tr>\n",
              "      <th>8631</th>\n",
              "      <td>Background and Objectives: The aim of this ret...</td>\n",
              "      <td>iyaiyaiya</td>\n",
              "    </tr>\n",
              "    <tr>\n",
              "      <th>1875</th>\n",
              "      <td>We investigated severe acute respiratory syndr...</td>\n",
              "      <td>iyaiyaiya</td>\n",
              "    </tr>\n",
              "    <tr>\n",
              "      <th>7674</th>\n",
              "      <td>Background: Cases of patients with combined DK...</td>\n",
              "      <td>iyaiyaiya</td>\n",
              "    </tr>\n",
              "  </tbody>\n",
              "</table>\n",
              "<p>100 rows × 2 columns</p>\n",
              "</div>\n",
              "    <div class=\"colab-df-buttons\">\n",
              "\n",
              "  <div class=\"colab-df-container\">\n",
              "    <button class=\"colab-df-convert\" onclick=\"convertToInteractive('df-810dd47d-8c38-409e-aa4a-c1ba608dd456')\"\n",
              "            title=\"Convert this dataframe to an interactive table.\"\n",
              "            style=\"display:none;\">\n",
              "\n",
              "  <svg xmlns=\"http://www.w3.org/2000/svg\" height=\"24px\" viewBox=\"0 -960 960 960\">\n",
              "    <path d=\"M120-120v-720h720v720H120Zm60-500h600v-160H180v160Zm220 220h160v-160H400v160Zm0 220h160v-160H400v160ZM180-400h160v-160H180v160Zm440 0h160v-160H620v160ZM180-180h160v-160H180v160Zm440 0h160v-160H620v160Z\"/>\n",
              "  </svg>\n",
              "    </button>\n",
              "\n",
              "  <style>\n",
              "    .colab-df-container {\n",
              "      display:flex;\n",
              "      gap: 12px;\n",
              "    }\n",
              "\n",
              "    .colab-df-convert {\n",
              "      background-color: #E8F0FE;\n",
              "      border: none;\n",
              "      border-radius: 50%;\n",
              "      cursor: pointer;\n",
              "      display: none;\n",
              "      fill: #1967D2;\n",
              "      height: 32px;\n",
              "      padding: 0 0 0 0;\n",
              "      width: 32px;\n",
              "    }\n",
              "\n",
              "    .colab-df-convert:hover {\n",
              "      background-color: #E2EBFA;\n",
              "      box-shadow: 0px 1px 2px rgba(60, 64, 67, 0.3), 0px 1px 3px 1px rgba(60, 64, 67, 0.15);\n",
              "      fill: #174EA6;\n",
              "    }\n",
              "\n",
              "    .colab-df-buttons div {\n",
              "      margin-bottom: 4px;\n",
              "    }\n",
              "\n",
              "    [theme=dark] .colab-df-convert {\n",
              "      background-color: #3B4455;\n",
              "      fill: #D2E3FC;\n",
              "    }\n",
              "\n",
              "    [theme=dark] .colab-df-convert:hover {\n",
              "      background-color: #434B5C;\n",
              "      box-shadow: 0px 1px 3px 1px rgba(0, 0, 0, 0.15);\n",
              "      filter: drop-shadow(0px 1px 2px rgba(0, 0, 0, 0.3));\n",
              "      fill: #FFFFFF;\n",
              "    }\n",
              "  </style>\n",
              "\n",
              "    <script>\n",
              "      const buttonEl =\n",
              "        document.querySelector('#df-810dd47d-8c38-409e-aa4a-c1ba608dd456 button.colab-df-convert');\n",
              "      buttonEl.style.display =\n",
              "        google.colab.kernel.accessAllowed ? 'block' : 'none';\n",
              "\n",
              "      async function convertToInteractive(key) {\n",
              "        const element = document.querySelector('#df-810dd47d-8c38-409e-aa4a-c1ba608dd456');\n",
              "        const dataTable =\n",
              "          await google.colab.kernel.invokeFunction('convertToInteractive',\n",
              "                                                    [key], {});\n",
              "        if (!dataTable) return;\n",
              "\n",
              "        const docLinkHtml = 'Like what you see? Visit the ' +\n",
              "          '<a target=\"_blank\" href=https://colab.research.google.com/notebooks/data_table.ipynb>data table notebook</a>'\n",
              "          + ' to learn more about interactive tables.';\n",
              "        element.innerHTML = '';\n",
              "        dataTable['output_type'] = 'display_data';\n",
              "        await google.colab.output.renderOutput(dataTable, element);\n",
              "        const docLink = document.createElement('div');\n",
              "        docLink.innerHTML = docLinkHtml;\n",
              "        element.appendChild(docLink);\n",
              "      }\n",
              "    </script>\n",
              "  </div>\n",
              "\n",
              "\n",
              "<div id=\"df-890d8508-bc34-42da-a9f4-d786dc2073ca\">\n",
              "  <button class=\"colab-df-quickchart\" onclick=\"quickchart('df-890d8508-bc34-42da-a9f4-d786dc2073ca')\"\n",
              "            title=\"Suggest charts.\"\n",
              "            style=\"display:none;\">\n",
              "\n",
              "<svg xmlns=\"http://www.w3.org/2000/svg\" height=\"24px\"viewBox=\"0 0 24 24\"\n",
              "     width=\"24px\">\n",
              "    <g>\n",
              "        <path d=\"M19 3H5c-1.1 0-2 .9-2 2v14c0 1.1.9 2 2 2h14c1.1 0 2-.9 2-2V5c0-1.1-.9-2-2-2zM9 17H7v-7h2v7zm4 0h-2V7h2v10zm4 0h-2v-4h2v4z\"/>\n",
              "    </g>\n",
              "</svg>\n",
              "  </button>\n",
              "\n",
              "<style>\n",
              "  .colab-df-quickchart {\n",
              "      --bg-color: #E8F0FE;\n",
              "      --fill-color: #1967D2;\n",
              "      --hover-bg-color: #E2EBFA;\n",
              "      --hover-fill-color: #174EA6;\n",
              "      --disabled-fill-color: #AAA;\n",
              "      --disabled-bg-color: #DDD;\n",
              "  }\n",
              "\n",
              "  [theme=dark] .colab-df-quickchart {\n",
              "      --bg-color: #3B4455;\n",
              "      --fill-color: #D2E3FC;\n",
              "      --hover-bg-color: #434B5C;\n",
              "      --hover-fill-color: #FFFFFF;\n",
              "      --disabled-bg-color: #3B4455;\n",
              "      --disabled-fill-color: #666;\n",
              "  }\n",
              "\n",
              "  .colab-df-quickchart {\n",
              "    background-color: var(--bg-color);\n",
              "    border: none;\n",
              "    border-radius: 50%;\n",
              "    cursor: pointer;\n",
              "    display: none;\n",
              "    fill: var(--fill-color);\n",
              "    height: 32px;\n",
              "    padding: 0;\n",
              "    width: 32px;\n",
              "  }\n",
              "\n",
              "  .colab-df-quickchart:hover {\n",
              "    background-color: var(--hover-bg-color);\n",
              "    box-shadow: 0 1px 2px rgba(60, 64, 67, 0.3), 0 1px 3px 1px rgba(60, 64, 67, 0.15);\n",
              "    fill: var(--button-hover-fill-color);\n",
              "  }\n",
              "\n",
              "  .colab-df-quickchart-complete:disabled,\n",
              "  .colab-df-quickchart-complete:disabled:hover {\n",
              "    background-color: var(--disabled-bg-color);\n",
              "    fill: var(--disabled-fill-color);\n",
              "    box-shadow: none;\n",
              "  }\n",
              "\n",
              "  .colab-df-spinner {\n",
              "    border: 2px solid var(--fill-color);\n",
              "    border-color: transparent;\n",
              "    border-bottom-color: var(--fill-color);\n",
              "    animation:\n",
              "      spin 1s steps(1) infinite;\n",
              "  }\n",
              "\n",
              "  @keyframes spin {\n",
              "    0% {\n",
              "      border-color: transparent;\n",
              "      border-bottom-color: var(--fill-color);\n",
              "      border-left-color: var(--fill-color);\n",
              "    }\n",
              "    20% {\n",
              "      border-color: transparent;\n",
              "      border-left-color: var(--fill-color);\n",
              "      border-top-color: var(--fill-color);\n",
              "    }\n",
              "    30% {\n",
              "      border-color: transparent;\n",
              "      border-left-color: var(--fill-color);\n",
              "      border-top-color: var(--fill-color);\n",
              "      border-right-color: var(--fill-color);\n",
              "    }\n",
              "    40% {\n",
              "      border-color: transparent;\n",
              "      border-right-color: var(--fill-color);\n",
              "      border-top-color: var(--fill-color);\n",
              "    }\n",
              "    60% {\n",
              "      border-color: transparent;\n",
              "      border-right-color: var(--fill-color);\n",
              "    }\n",
              "    80% {\n",
              "      border-color: transparent;\n",
              "      border-right-color: var(--fill-color);\n",
              "      border-bottom-color: var(--fill-color);\n",
              "    }\n",
              "    90% {\n",
              "      border-color: transparent;\n",
              "      border-bottom-color: var(--fill-color);\n",
              "    }\n",
              "  }\n",
              "</style>\n",
              "\n",
              "  <script>\n",
              "    async function quickchart(key) {\n",
              "      const quickchartButtonEl =\n",
              "        document.querySelector('#' + key + ' button');\n",
              "      quickchartButtonEl.disabled = true;  // To prevent multiple clicks.\n",
              "      quickchartButtonEl.classList.add('colab-df-spinner');\n",
              "      try {\n",
              "        const charts = await google.colab.kernel.invokeFunction(\n",
              "            'suggestCharts', [key], {});\n",
              "      } catch (error) {\n",
              "        console.error('Error during call to suggestCharts:', error);\n",
              "      }\n",
              "      quickchartButtonEl.classList.remove('colab-df-spinner');\n",
              "      quickchartButtonEl.classList.add('colab-df-quickchart-complete');\n",
              "    }\n",
              "    (() => {\n",
              "      let quickchartButtonEl =\n",
              "        document.querySelector('#df-890d8508-bc34-42da-a9f4-d786dc2073ca button');\n",
              "      quickchartButtonEl.style.display =\n",
              "        google.colab.kernel.accessAllowed ? 'block' : 'none';\n",
              "    })();\n",
              "  </script>\n",
              "</div>\n",
              "    </div>\n",
              "  </div>\n"
            ]
          },
          "metadata": {},
          "execution_count": 9
        }
      ]
    },
    {
      "cell_type": "code",
      "source": [
        "def create_vector_from_text(tokenizer, model, text, MAX_LEN=510):\n",
        "    # Tokenisasi teks menggunakan tokenizer\n",
        "    input_ids = tokenizer.encode(\n",
        "        text,\n",
        "        add_special_tokens=True,\n",
        "        max_length=MAX_LEN\n",
        "    )\n",
        "\n",
        "    # Padding token IDs untuk mencapai panjang maksimum\n",
        "    results = pad_sequences(\n",
        "        [input_ids],\n",
        "        maxlen=MAX_LEN,\n",
        "        dtype=\"long\",\n",
        "        truncating=\"post\",\n",
        "        padding=\"post\"\n",
        "    )\n",
        "    input_ids = results[0]\n",
        "\n",
        "    # Membuat attention mask untuk mengidentifikasi token-token padding\n",
        "    attention_mask = [int(i > 0) for i in input_ids]\n",
        "\n",
        "    # Mengkonversi token IDs dan attention mask ke tensor PyTorch\n",
        "    input_ids = torch.tensor(input_ids)\n",
        "    attention_mask = torch.tensor(attention_mask)\n",
        "\n",
        "    # Menambahkan dimensi batch (batch_size=1)\n",
        "    input_ids = input_ids.unsqueeze(0)\n",
        "    attention_mask = attention_mask.unsqueeze(0)\n",
        "\n",
        "    # Mode evaluasi untuk model\n",
        "    model.eval()\n",
        "\n",
        "    # Menggunakan model untuk mendapatkan logits dan encoded layers\n",
        "    with torch.no_grad():\n",
        "        logits, encoded_layers = model(\n",
        "            input_ids=input_ids,\n",
        "            token_type_ids=None,\n",
        "            attention_mask=attention_mask,\n",
        "            return_dict=False\n",
        "        )\n",
        "\n",
        "    # Menentukan layer, batch, dan token yang akan digunakan\n",
        "    layer_i = 12\n",
        "    batch_i = 0\n",
        "    token_i = 0\n",
        "\n",
        "    # Mengambil vektor dari encoded layers\n",
        "    vector = encoded_layers[layer_i][batch_i][token_i]\n",
        "\n",
        "    # Mengkonversi vektor ke array NumPy\n",
        "    vector = vector.detach().cpu().numpy()\n",
        "\n",
        "    return vector\n"
      ],
      "metadata": {
        "id": "eyeE9VXz448q"
      },
      "execution_count": null,
      "outputs": []
    },
    {
      "cell_type": "markdown",
      "source": [
        "# Create Vector Database"
      ],
      "metadata": {
        "id": "vPJ9lW6KXjJk"
      }
    },
    {
      "cell_type": "code",
      "source": [
        "import numpy as np\n",
        "\n",
        "def create_vector_database(data):\n",
        "\n",
        "    # The list of all the vectors\n",
        "    vectors = []\n",
        "\n",
        "    # Get overall text data\n",
        "    source_data = data.abstract.values\n",
        "\n",
        "    # Loop over all the comment and get the embeddings\n",
        "    for text in tqdm(source_data):\n",
        "\n",
        "        # Get the embedding\n",
        "        vector = create_vector_from_text(tokenizer, model, text)\n",
        "\n",
        "        #add it to the list\n",
        "        vectors.append(vector)\n",
        "\n",
        "    data[\"vectors\"] = vectors\n",
        "    data[\"vectors\"] = data[\"vectors\"].apply(lambda emb: np.array(emb))\n",
        "    data[\"vectors\"] = data[\"vectors\"].apply(lambda emb: emb.reshape(1, -1))\n",
        "\n",
        "    return data\n"
      ],
      "metadata": {
        "id": "Afg3zn3nXdF9"
      },
      "execution_count": null,
      "outputs": []
    },
    {
      "cell_type": "code",
      "source": [
        "vector_database = create_vector_database(source_data)"
      ],
      "metadata": {
        "colab": {
          "base_uri": "https://localhost:8080/"
        },
        "id": "KpwNZ8wFY3gR",
        "outputId": "542feef6-ff46-4a98-ec7d-bb8cb5310281"
      },
      "execution_count": null,
      "outputs": [
        {
          "output_type": "stream",
          "name": "stderr",
          "text": [
            "  0%|          | 0/100 [00:00<?, ?it/s]Truncation was not explicitly activated but `max_length` is provided a specific value, please use `truncation=True` to explicitly truncate examples to max length. Defaulting to 'longest_first' truncation strategy. If you encode pairs of sequences (GLUE-style) with the tokenizer you can select this strategy more precisely by providing a specific strategy to `truncation`.\n",
            "100%|██████████| 100/100 [04:06<00:00,  2.47s/it]\n"
          ]
        }
      ]
    },
    {
      "cell_type": "code",
      "source": [
        "vector_database.sample(5)"
      ],
      "metadata": {
        "id": "G_asmJ4CY5Pg",
        "colab": {
          "base_uri": "https://localhost:8080/",
          "height": 206
        },
        "outputId": "111205ac-550f-40f9-9200-f6c7b2cb8110"
      },
      "execution_count": null,
      "outputs": [
        {
          "output_type": "execute_result",
          "data": {
            "text/plain": [
              "                                               abstract        apa  \\\n",
              "9482  Of the various adverse reactions to COVID-19 v...  iyaiyaiya   \n",
              "3892  Rhinoviruses (RV’s) are common human pathogens...  iyaiyaiya   \n",
              "116   In the last 20 years, accumulating evidence in...  iyaiyaiya   \n",
              "2809  OBJECTIVES: To review the response to the coro...  iyaiyaiya   \n",
              "6228  BACKGROUND: Since the World Health Organizatio...  iyaiyaiya   \n",
              "\n",
              "                                                vectors  \n",
              "9482  [[-0.6010775, -0.6136122, -0.5267856, -0.49154...  \n",
              "3892  [[-0.40913472, -0.1338518, -0.7423564, -0.3902...  \n",
              "116   [[-0.5469991, -0.30055866, -0.55782557, -0.099...  \n",
              "2809  [[-0.8285695, -0.9449627, -0.39063674, 0.09564...  \n",
              "6228  [[-0.82029444, -0.5826201, -0.09296857, -0.053...  "
            ],
            "text/html": [
              "\n",
              "  <div id=\"df-4c5abeaf-bcba-4dc7-b63e-aa2e5ea99daf\" class=\"colab-df-container\">\n",
              "    <div>\n",
              "<style scoped>\n",
              "    .dataframe tbody tr th:only-of-type {\n",
              "        vertical-align: middle;\n",
              "    }\n",
              "\n",
              "    .dataframe tbody tr th {\n",
              "        vertical-align: top;\n",
              "    }\n",
              "\n",
              "    .dataframe thead th {\n",
              "        text-align: right;\n",
              "    }\n",
              "</style>\n",
              "<table border=\"1\" class=\"dataframe\">\n",
              "  <thead>\n",
              "    <tr style=\"text-align: right;\">\n",
              "      <th></th>\n",
              "      <th>abstract</th>\n",
              "      <th>apa</th>\n",
              "      <th>vectors</th>\n",
              "    </tr>\n",
              "  </thead>\n",
              "  <tbody>\n",
              "    <tr>\n",
              "      <th>9482</th>\n",
              "      <td>Of the various adverse reactions to COVID-19 v...</td>\n",
              "      <td>iyaiyaiya</td>\n",
              "      <td>[[-0.6010775, -0.6136122, -0.5267856, -0.49154...</td>\n",
              "    </tr>\n",
              "    <tr>\n",
              "      <th>3892</th>\n",
              "      <td>Rhinoviruses (RV’s) are common human pathogens...</td>\n",
              "      <td>iyaiyaiya</td>\n",
              "      <td>[[-0.40913472, -0.1338518, -0.7423564, -0.3902...</td>\n",
              "    </tr>\n",
              "    <tr>\n",
              "      <th>116</th>\n",
              "      <td>In the last 20 years, accumulating evidence in...</td>\n",
              "      <td>iyaiyaiya</td>\n",
              "      <td>[[-0.5469991, -0.30055866, -0.55782557, -0.099...</td>\n",
              "    </tr>\n",
              "    <tr>\n",
              "      <th>2809</th>\n",
              "      <td>OBJECTIVES: To review the response to the coro...</td>\n",
              "      <td>iyaiyaiya</td>\n",
              "      <td>[[-0.8285695, -0.9449627, -0.39063674, 0.09564...</td>\n",
              "    </tr>\n",
              "    <tr>\n",
              "      <th>6228</th>\n",
              "      <td>BACKGROUND: Since the World Health Organizatio...</td>\n",
              "      <td>iyaiyaiya</td>\n",
              "      <td>[[-0.82029444, -0.5826201, -0.09296857, -0.053...</td>\n",
              "    </tr>\n",
              "  </tbody>\n",
              "</table>\n",
              "</div>\n",
              "    <div class=\"colab-df-buttons\">\n",
              "\n",
              "  <div class=\"colab-df-container\">\n",
              "    <button class=\"colab-df-convert\" onclick=\"convertToInteractive('df-4c5abeaf-bcba-4dc7-b63e-aa2e5ea99daf')\"\n",
              "            title=\"Convert this dataframe to an interactive table.\"\n",
              "            style=\"display:none;\">\n",
              "\n",
              "  <svg xmlns=\"http://www.w3.org/2000/svg\" height=\"24px\" viewBox=\"0 -960 960 960\">\n",
              "    <path d=\"M120-120v-720h720v720H120Zm60-500h600v-160H180v160Zm220 220h160v-160H400v160Zm0 220h160v-160H400v160ZM180-400h160v-160H180v160Zm440 0h160v-160H620v160ZM180-180h160v-160H180v160Zm440 0h160v-160H620v160Z\"/>\n",
              "  </svg>\n",
              "    </button>\n",
              "\n",
              "  <style>\n",
              "    .colab-df-container {\n",
              "      display:flex;\n",
              "      gap: 12px;\n",
              "    }\n",
              "\n",
              "    .colab-df-convert {\n",
              "      background-color: #E8F0FE;\n",
              "      border: none;\n",
              "      border-radius: 50%;\n",
              "      cursor: pointer;\n",
              "      display: none;\n",
              "      fill: #1967D2;\n",
              "      height: 32px;\n",
              "      padding: 0 0 0 0;\n",
              "      width: 32px;\n",
              "    }\n",
              "\n",
              "    .colab-df-convert:hover {\n",
              "      background-color: #E2EBFA;\n",
              "      box-shadow: 0px 1px 2px rgba(60, 64, 67, 0.3), 0px 1px 3px 1px rgba(60, 64, 67, 0.15);\n",
              "      fill: #174EA6;\n",
              "    }\n",
              "\n",
              "    .colab-df-buttons div {\n",
              "      margin-bottom: 4px;\n",
              "    }\n",
              "\n",
              "    [theme=dark] .colab-df-convert {\n",
              "      background-color: #3B4455;\n",
              "      fill: #D2E3FC;\n",
              "    }\n",
              "\n",
              "    [theme=dark] .colab-df-convert:hover {\n",
              "      background-color: #434B5C;\n",
              "      box-shadow: 0px 1px 3px 1px rgba(0, 0, 0, 0.15);\n",
              "      filter: drop-shadow(0px 1px 2px rgba(0, 0, 0, 0.3));\n",
              "      fill: #FFFFFF;\n",
              "    }\n",
              "  </style>\n",
              "\n",
              "    <script>\n",
              "      const buttonEl =\n",
              "        document.querySelector('#df-4c5abeaf-bcba-4dc7-b63e-aa2e5ea99daf button.colab-df-convert');\n",
              "      buttonEl.style.display =\n",
              "        google.colab.kernel.accessAllowed ? 'block' : 'none';\n",
              "\n",
              "      async function convertToInteractive(key) {\n",
              "        const element = document.querySelector('#df-4c5abeaf-bcba-4dc7-b63e-aa2e5ea99daf');\n",
              "        const dataTable =\n",
              "          await google.colab.kernel.invokeFunction('convertToInteractive',\n",
              "                                                    [key], {});\n",
              "        if (!dataTable) return;\n",
              "\n",
              "        const docLinkHtml = 'Like what you see? Visit the ' +\n",
              "          '<a target=\"_blank\" href=https://colab.research.google.com/notebooks/data_table.ipynb>data table notebook</a>'\n",
              "          + ' to learn more about interactive tables.';\n",
              "        element.innerHTML = '';\n",
              "        dataTable['output_type'] = 'display_data';\n",
              "        await google.colab.output.renderOutput(dataTable, element);\n",
              "        const docLink = document.createElement('div');\n",
              "        docLink.innerHTML = docLinkHtml;\n",
              "        element.appendChild(docLink);\n",
              "      }\n",
              "    </script>\n",
              "  </div>\n",
              "\n",
              "\n",
              "<div id=\"df-3a83aa48-3b94-4a74-9b1e-4fe4d6264a80\">\n",
              "  <button class=\"colab-df-quickchart\" onclick=\"quickchart('df-3a83aa48-3b94-4a74-9b1e-4fe4d6264a80')\"\n",
              "            title=\"Suggest charts.\"\n",
              "            style=\"display:none;\">\n",
              "\n",
              "<svg xmlns=\"http://www.w3.org/2000/svg\" height=\"24px\"viewBox=\"0 0 24 24\"\n",
              "     width=\"24px\">\n",
              "    <g>\n",
              "        <path d=\"M19 3H5c-1.1 0-2 .9-2 2v14c0 1.1.9 2 2 2h14c1.1 0 2-.9 2-2V5c0-1.1-.9-2-2-2zM9 17H7v-7h2v7zm4 0h-2V7h2v10zm4 0h-2v-4h2v4z\"/>\n",
              "    </g>\n",
              "</svg>\n",
              "  </button>\n",
              "\n",
              "<style>\n",
              "  .colab-df-quickchart {\n",
              "      --bg-color: #E8F0FE;\n",
              "      --fill-color: #1967D2;\n",
              "      --hover-bg-color: #E2EBFA;\n",
              "      --hover-fill-color: #174EA6;\n",
              "      --disabled-fill-color: #AAA;\n",
              "      --disabled-bg-color: #DDD;\n",
              "  }\n",
              "\n",
              "  [theme=dark] .colab-df-quickchart {\n",
              "      --bg-color: #3B4455;\n",
              "      --fill-color: #D2E3FC;\n",
              "      --hover-bg-color: #434B5C;\n",
              "      --hover-fill-color: #FFFFFF;\n",
              "      --disabled-bg-color: #3B4455;\n",
              "      --disabled-fill-color: #666;\n",
              "  }\n",
              "\n",
              "  .colab-df-quickchart {\n",
              "    background-color: var(--bg-color);\n",
              "    border: none;\n",
              "    border-radius: 50%;\n",
              "    cursor: pointer;\n",
              "    display: none;\n",
              "    fill: var(--fill-color);\n",
              "    height: 32px;\n",
              "    padding: 0;\n",
              "    width: 32px;\n",
              "  }\n",
              "\n",
              "  .colab-df-quickchart:hover {\n",
              "    background-color: var(--hover-bg-color);\n",
              "    box-shadow: 0 1px 2px rgba(60, 64, 67, 0.3), 0 1px 3px 1px rgba(60, 64, 67, 0.15);\n",
              "    fill: var(--button-hover-fill-color);\n",
              "  }\n",
              "\n",
              "  .colab-df-quickchart-complete:disabled,\n",
              "  .colab-df-quickchart-complete:disabled:hover {\n",
              "    background-color: var(--disabled-bg-color);\n",
              "    fill: var(--disabled-fill-color);\n",
              "    box-shadow: none;\n",
              "  }\n",
              "\n",
              "  .colab-df-spinner {\n",
              "    border: 2px solid var(--fill-color);\n",
              "    border-color: transparent;\n",
              "    border-bottom-color: var(--fill-color);\n",
              "    animation:\n",
              "      spin 1s steps(1) infinite;\n",
              "  }\n",
              "\n",
              "  @keyframes spin {\n",
              "    0% {\n",
              "      border-color: transparent;\n",
              "      border-bottom-color: var(--fill-color);\n",
              "      border-left-color: var(--fill-color);\n",
              "    }\n",
              "    20% {\n",
              "      border-color: transparent;\n",
              "      border-left-color: var(--fill-color);\n",
              "      border-top-color: var(--fill-color);\n",
              "    }\n",
              "    30% {\n",
              "      border-color: transparent;\n",
              "      border-left-color: var(--fill-color);\n",
              "      border-top-color: var(--fill-color);\n",
              "      border-right-color: var(--fill-color);\n",
              "    }\n",
              "    40% {\n",
              "      border-color: transparent;\n",
              "      border-right-color: var(--fill-color);\n",
              "      border-top-color: var(--fill-color);\n",
              "    }\n",
              "    60% {\n",
              "      border-color: transparent;\n",
              "      border-right-color: var(--fill-color);\n",
              "    }\n",
              "    80% {\n",
              "      border-color: transparent;\n",
              "      border-right-color: var(--fill-color);\n",
              "      border-bottom-color: var(--fill-color);\n",
              "    }\n",
              "    90% {\n",
              "      border-color: transparent;\n",
              "      border-bottom-color: var(--fill-color);\n",
              "    }\n",
              "  }\n",
              "</style>\n",
              "\n",
              "  <script>\n",
              "    async function quickchart(key) {\n",
              "      const quickchartButtonEl =\n",
              "        document.querySelector('#' + key + ' button');\n",
              "      quickchartButtonEl.disabled = true;  // To prevent multiple clicks.\n",
              "      quickchartButtonEl.classList.add('colab-df-spinner');\n",
              "      try {\n",
              "        const charts = await google.colab.kernel.invokeFunction(\n",
              "            'suggestCharts', [key], {});\n",
              "      } catch (error) {\n",
              "        console.error('Error during call to suggestCharts:', error);\n",
              "      }\n",
              "      quickchartButtonEl.classList.remove('colab-df-spinner');\n",
              "      quickchartButtonEl.classList.add('colab-df-quickchart-complete');\n",
              "    }\n",
              "    (() => {\n",
              "      let quickchartButtonEl =\n",
              "        document.querySelector('#df-3a83aa48-3b94-4a74-9b1e-4fe4d6264a80 button');\n",
              "      quickchartButtonEl.style.display =\n",
              "        google.colab.kernel.accessAllowed ? 'block' : 'none';\n",
              "    })();\n",
              "  </script>\n",
              "</div>\n",
              "    </div>\n",
              "  </div>\n"
            ]
          },
          "metadata": {},
          "execution_count": 13
        }
      ]
    },
    {
      "cell_type": "markdown",
      "source": [
        "# Language detector and translation"
      ],
      "metadata": {
        "id": "IQMSvWbPy9b-"
      }
    },
    {
      "cell_type": "code",
      "source": [
        "#!pip -q install sentencepiece\n",
        "from transformers import MarianMTModel, MarianTokenizer"
      ],
      "metadata": {
        "id": "HwGa52WGY_vS"
      },
      "execution_count": null,
      "outputs": []
    },
    {
      "cell_type": "code",
      "source": [
        "\"\"\"\n",
        "Candidate Languages\n",
        "de: German\n",
        "fr: French      el: Greek\n",
        "ja: Japan       ru: Russian\n",
        "\"\"\"\n",
        "language_list = ['de', 'fr', 'el', 'ja', 'ru']"
      ],
      "metadata": {
        "id": "noqMrUZWzAKL"
      },
      "execution_count": null,
      "outputs": []
    },
    {
      "cell_type": "code",
      "source": [
        "# Install the library\n",
        "!pip -q install langdetect\n",
        "from langdetect import detect, DetectorFactory\n",
        "DetectorFactory.seed = 0"
      ],
      "metadata": {
        "id": "CligWPZIzGNq"
      },
      "execution_count": null,
      "outputs": []
    },
    {
      "cell_type": "code",
      "source": [
        "def translate_text(text, text_lang, target_lang='en'):\n",
        "\n",
        "  model_name = f\"Helsinki-NLP/opus-mt-{text_lang}-{target_lang}\"\n",
        "\n",
        "  tokenizer = MarianTokenizer.from_pretrained(model_name)\n",
        "\n",
        "  model = MarianMTModel.from_pretrained(model_name)\n",
        "\n",
        "  formated_text = \">>{}<< {}\".fromat(text_lang, text)\n",
        "\n",
        "  translation = model.generate(**tokenizer([formated_text],\n",
        "                                           return_tensors = \"pt\",\n",
        "                                           padding = True))\n",
        "\n",
        "  translated_text = [tokenizer.decode(t, skip_special_tokens = True) for t in translation][0]\n",
        "\n",
        "  return translated_text"
      ],
      "metadata": {
        "id": "SmqORzcWzHx5"
      },
      "execution_count": null,
      "outputs": []
    },
    {
      "cell_type": "code",
      "source": [],
      "metadata": {
        "id": "Wz7taHhb6TRS"
      },
      "execution_count": null,
      "outputs": []
    },
    {
      "cell_type": "markdown",
      "source": [
        "# Implement Plagiarism Analysis"
      ],
      "metadata": {
        "id": "P72F_pyd1mS8"
      }
    },
    {
      "cell_type": "code",
      "source": [
        "from sklearn.metrics.pairwise import cosine_similarity\n",
        "def process_document(text):\n",
        "    \"\"\"\n",
        "    Create a vector for given text and adjust it for cosine similarity search\n",
        "    \"\"\"\n",
        "    text_vect = create_vector_from_text(tokenizer, model, text)\n",
        "    text_vect = np.array(text_vect)\n",
        "    text_vect = text_vect.reshape(1, -1)\n",
        "\n",
        "    return text_vect\n",
        "\n",
        "\n",
        "def is_plagiarism(similarity_score, plagiarism_threshold):\n",
        "\n",
        "  is_plagiarism = False\n",
        "\n",
        "  if(similarity_score >= plagiarism_threshold):\n",
        "    is_plagiarism = True\n",
        "\n",
        "  return is_plagiarism\n",
        "\n",
        "\n",
        "def check_incoming_document(incoming_document):\n",
        "\n",
        "  text_lang = detect(incoming_document)\n",
        "  language_list = ['de', 'fr', 'el', 'ja', 'ru']\n",
        "\n",
        "  final_result = \"\"\n",
        "\n",
        "  if(text_lang == 'en'):\n",
        "    final_result = incoming_document\n",
        "\n",
        "  elif(text_lang not in language_list):\n",
        "    final_result = None\n",
        "\n",
        "  else:\n",
        "    # Translate in English\n",
        "    final_result = translate_text(incoming_document, text_lang)\n",
        "\n",
        "  return final_result\n",
        "\n",
        "\n",
        "def run_plagiarism_analysis(query_text, data, plagiarism_threshold=0.8):\n",
        "\n",
        "    top_N=3\n",
        "\n",
        "    # Check the language of the query/incoming text and translate if required.\n",
        "    document_translation = check_incoming_document(query_text)\n",
        "\n",
        "    if(document_translation is None):\n",
        "      print(\"Only the following languages are supported: English, French, Russian, German, Greek and Japanese\")\n",
        "      exit(-1)\n",
        "\n",
        "    else:\n",
        "      # Preprocess the document to get the required vector for similarity analysis\n",
        "      query_vect = process_document(document_translation)\n",
        "\n",
        "      # Run similarity Search\n",
        "      data[\"similarity\"] = data[\"vectors\"].apply(lambda x: cosine_similarity(query_vect, x))\n",
        "      data[\"similarity\"] = data[\"similarity\"].apply(lambda x: x[0][0])\n",
        "\n",
        "      similar_articles = data.sort_values(by='similarity', ascending=False)[0:top_N+1]\n",
        "      formated_result = similar_articles[[\"abstract\", \"similarity\"]].reset_index(drop = True)\n",
        "\n",
        "      similarity_score = formated_result.iloc[0][\"similarity\"]\n",
        "      most_similar_article = formated_result.iloc[0][\"abstract\"]\n",
        "      is_plagiarism_bool = is_plagiarism(similarity_score, plagiarism_threshold)\n",
        "\n",
        "      plagiarism_decision = {'similarity_score': similarity_score,\n",
        "                             'is_plagiarism': is_plagiarism_bool,\n",
        "                             'most_similar_article': most_similar_article,\n",
        "                             'article_submitted': query_text\n",
        "                            }\n",
        "\n",
        "      return plagiarism_decision"
      ],
      "metadata": {
        "id": "bjL1FNeU1cLM"
      },
      "execution_count": null,
      "outputs": []
    },
    {
      "cell_type": "code",
      "source": [
        "# Select an existing article from the database\n",
        "new_incoming_text = source_data.iloc[0]['abstract']\n",
        "\n",
        "# Run the plagiarism detection\n",
        "analysis_result = run_plagiarism_analysis(new_incoming_text, vector_database, plagiarism_threshold=0.8)"
      ],
      "metadata": {
        "id": "xm_Grs9X2pdK"
      },
      "execution_count": null,
      "outputs": []
    },
    {
      "cell_type": "code",
      "source": [
        "analysis_result"
      ],
      "metadata": {
        "colab": {
          "base_uri": "https://localhost:8080/"
        },
        "id": "l_tJRjaR2wvP",
        "outputId": "0be7a86b-58c2-455b-aa36-5337e98498af"
      },
      "execution_count": null,
      "outputs": [
        {
          "output_type": "execute_result",
          "data": {
            "text/plain": [
              "{'similarity_score': 0.99999976,\n",
              " 'is_plagiarism': True,\n",
              " 'most_similar_article': \"BACKGROUND Due to demand on UK memory clinic services, most patients have limited consultant interaction before diagnosis/discharge. Technology offers an opportunity for remote assessment, from telephone/video-based consultations to fully digitised cognitive assessments with potential to track disease progression. Whilst many acute services utilise remote assessment, there are perceived barriers in memory clinic populations. However, COVID-19 and related national restrictions may have altered patients' attitudes towards and experience with remote assessment tools. We aimed to investigate attitudes including confidence and perceived challenges towards remote assessment as well as access and experience with technology amongst Oxfordshire memory clinic patients. METHOD Between June and September 2020, all patients awaiting initial memory clinic assessment were asked to participate in a standardised semi-quantitative survey as part of an Oxford Health NHS Foundation Trust service evaluation. Designed with service-user input, questions aimed to capture availability, experience and confidence using technology and patients' comfort with assessment, diagnosis and future care discussions being conducted remotely, as well as any concerns or comments. RESULT Amongst 73 respondents (average age=79.1 years), access to technology was high; 82% reported telephone access and 58% to a laptop, tablet, smartphone or combination of the three. 17% reported previous use of web-based video conferencing tools, and although confidence using these tools was 7%, this increased with written instruction or relative assistance. Similarly, whilst under half of the respondents felt comfortable with assessments, diagnosis or future care discussions occurring remotely, this increased to approximately two thirds with relative presence (67%, 69% and 66%, respectively). Qualitative analysis of patient's comments regarding remote assessment also revealed concerns over wait times/urgent need for assessment. However, 62% preferred to wait for an in-person visit, rather than an immediate remote appointment. CONCLUSION This survey demonstrates availability of technology in this population but a disparity in willingness to engage in remote assessment. Consequently, there is a need to diverge from one-size-fits-all models to a tiered approach that helps facilitate individual choice based on the availability/confidence with technology and level of relative support. The Oxford Brain Health Centre, an integrated clinical-research service, provides an opportunity to research this tiered approach in clinical practice.\",\n",
              " 'article_submitted': \"BACKGROUND Due to demand on UK memory clinic services, most patients have limited consultant interaction before diagnosis/discharge. Technology offers an opportunity for remote assessment, from telephone/video-based consultations to fully digitised cognitive assessments with potential to track disease progression. Whilst many acute services utilise remote assessment, there are perceived barriers in memory clinic populations. However, COVID-19 and related national restrictions may have altered patients' attitudes towards and experience with remote assessment tools. We aimed to investigate attitudes including confidence and perceived challenges towards remote assessment as well as access and experience with technology amongst Oxfordshire memory clinic patients. METHOD Between June and September 2020, all patients awaiting initial memory clinic assessment were asked to participate in a standardised semi-quantitative survey as part of an Oxford Health NHS Foundation Trust service evaluation. Designed with service-user input, questions aimed to capture availability, experience and confidence using technology and patients' comfort with assessment, diagnosis and future care discussions being conducted remotely, as well as any concerns or comments. RESULT Amongst 73 respondents (average age=79.1 years), access to technology was high; 82% reported telephone access and 58% to a laptop, tablet, smartphone or combination of the three. 17% reported previous use of web-based video conferencing tools, and although confidence using these tools was 7%, this increased with written instruction or relative assistance. Similarly, whilst under half of the respondents felt comfortable with assessments, diagnosis or future care discussions occurring remotely, this increased to approximately two thirds with relative presence (67%, 69% and 66%, respectively). Qualitative analysis of patient's comments regarding remote assessment also revealed concerns over wait times/urgent need for assessment. However, 62% preferred to wait for an in-person visit, rather than an immediate remote appointment. CONCLUSION This survey demonstrates availability of technology in this population but a disparity in willingness to engage in remote assessment. Consequently, there is a need to diverge from one-size-fits-all models to a tiered approach that helps facilitate individual choice based on the availability/confidence with technology and level of relative support. The Oxford Brain Health Centre, an integrated clinical-research service, provides an opportunity to research this tiered approach in clinical practice.\"}"
            ]
          },
          "metadata": {},
          "execution_count": 20
        }
      ]
    },
    {
      "cell_type": "code",
      "source": [
        "french_article_to_check = \"\"\"\n",
        "The Innovation and Agricultural Transfer Networks (RITA) were created in 2011 to better connect agricultural research and development,\n",
        "intra and inter-DOM, with the objective of supporting the diversification of local production. The CGAAER was tasked with analyzing this system and\n",
        "to propose courses of action to improve the Research – Training – Innovation – Development – Transfer chain in the overseas territories in a context\n",
        "  of sustainable agriculture, for the benefit of increasing food autonomy.\n",
        "\"\"\""
      ],
      "metadata": {
        "id": "o3zZXKLB283D"
      },
      "execution_count": null,
      "outputs": []
    },
    {
      "cell_type": "code",
      "source": [
        "!pip install sentencepiece"
      ],
      "metadata": {
        "colab": {
          "base_uri": "https://localhost:8080/"
        },
        "id": "WUna9FDG37wH",
        "outputId": "e455a265-d687-4ebe-8dd6-54a887b41a49"
      },
      "execution_count": null,
      "outputs": [
        {
          "output_type": "stream",
          "name": "stdout",
          "text": [
            "Requirement already satisfied: sentencepiece in /usr/local/lib/python3.10/dist-packages (0.1.99)\n",
            "\u001b[31mERROR: Operation cancelled by user\u001b[0m\u001b[31m\n",
            "\u001b[0m"
          ]
        }
      ]
    },
    {
      "cell_type": "code",
      "source": [
        "analysis_result = run_plagiarism_analysis(french_article_to_check, vector_database, plagiarism_threshold=0.8)\n",
        "analysis_result"
      ],
      "metadata": {
        "colab": {
          "base_uri": "https://localhost:8080/"
        },
        "id": "oxheJ3203Mmi",
        "outputId": "ad6b269e-0f04-4268-dc51-cf07fd8410aa"
      },
      "execution_count": null,
      "outputs": [
        {
          "output_type": "execute_result",
          "data": {
            "text/plain": [
              "{'similarity_score': 0.7841553,\n",
              " 'is_plagiarism': False,\n",
              " 'most_similar_article': 'The present paper is a review of the main challenges faced by the management of a tertiary specialty hospital during the COVID-19 pandemic in the northern Italian region of Lombardy, an area of extremely high epidemic impact. The article focuses on the management of patient flows, access to the hospital, maintaining and reallocating staffing levels, and managing urgent referrals, information, and communications from the point of view of the hospital managers over a seven-week period. The objective of the article is to provide beneficial insights and solutions to other hospital managers and medical directors who should find themselves in the same or a similar situation. In such an epidemic emergency, in the authors’ opinion, the most important factors influencing the capability of the hospital to maintain operations are (1) sustaining the strict triage of patients, (2) the differentiation of flows and pathways to create what could be regarded as “a hospital inside a hospital”, (3) tracing and sharing all available information to face the rapidly changing environment, (4) being able to maintain staffing levels in critical areas by flexibly allocating the workforce, and (5) from a regional perspective, being organized along a hub-and-spoke system for critical and time-sensitive networks was key for focusing the hospital’s resources on the most needed services.',\n",
              " 'article_submitted': '\\nThe Innovation and Agricultural Transfer Networks (RITA) were created in 2011 to better connect agricultural research and development,\\nintra and inter-DOM, with the objective of supporting the diversification of local production. The CGAAER was tasked with analyzing this system and\\nto propose courses of action to improve the Research – Training – Innovation – Development – Transfer chain in the overseas territories in a context\\n  of sustainable agriculture, for the benefit of increasing food autonomy.\\n'}"
            ]
          },
          "metadata": {},
          "execution_count": 23
        }
      ]
    },
    {
      "cell_type": "code",
      "source": [
        "from transformers import MarianMTModel, MarianTokenizer\n",
        "\n",
        "src_text = [\n",
        "    \">>fr<< this is a sentence in english that we want to translate to french\",\n",
        "    \">>pt<< This should go to portuguese\",\n",
        "    \">>es<< And this to Spanish\",\n",
        "]\n",
        "\n",
        "model_name = \"Helsinki-NLP/opus-mt-en-ROMANCE\"\n",
        "tokenizer = MarianTokenizer.from_pretrained(model_name)\n",
        "\n",
        "model = MarianMTModel.from_pretrained(model_name)\n",
        "translated = model.generate(**tokenizer(src_text, return_tensors=\"pt\", padding=True))\n",
        "tgt_text = [tokenizer.decode(t, skip_special_tokens=True) for t in translated]\n",
        "tgt_text"
      ],
      "metadata": {
        "colab": {
          "base_uri": "https://localhost:8080/"
        },
        "id": "jP0Gfplk3PWX",
        "outputId": "eaec1c2f-ca17-4891-ac6c-759cab164dc9"
      },
      "execution_count": null,
      "outputs": [
        {
          "output_type": "stream",
          "name": "stderr",
          "text": [
            "/usr/local/lib/python3.10/dist-packages/transformers/models/marian/tokenization_marian.py:194: UserWarning: Recommended: pip install sacremoses.\n",
            "  warnings.warn(\"Recommended: pip install sacremoses.\")\n"
          ]
        }
      ]
    },
    {
      "cell_type": "code",
      "source": [],
      "metadata": {
        "id": "wPvSNs9R-AoS"
      },
      "execution_count": null,
      "outputs": []
    }
  ]
}